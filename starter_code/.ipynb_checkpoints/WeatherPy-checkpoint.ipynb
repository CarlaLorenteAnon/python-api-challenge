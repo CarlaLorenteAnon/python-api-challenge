{
 "cells": [
  {
   "cell_type": "markdown",
   "metadata": {},
   "source": [
    "# WeatherPy\n",
    "----\n",
    "\n",
    "#### Note\n",
    "* Instructions have been included for each segment. You do not have to follow them exactly, but they are included to help you think through the steps."
   ]
  },
  {
   "cell_type": "code",
   "execution_count": 1,
   "metadata": {
    "scrolled": true
   },
   "outputs": [],
   "source": [
    "# Dependencies and Setup\n",
    "import matplotlib.pyplot as plt\n",
    "import pandas as pd\n",
    "import numpy as np\n",
    "import requests\n",
    "import time\n",
    "from scipy.stats import linregress\n",
    "\n",
    "# Import API key\n",
    "from api_keys import weather_api_key\n",
    "\n",
    "# Incorporated citipy to determine city based on latitude and longitude\n",
    "from citipy import citipy\n",
    "\n",
    "# Output File (CSV)\n",
    "output_data_file = \"output_data/cities.csv\"\n",
    "\n",
    "# Range of latitudes and longitudes\n",
    "lat_range = (-90, 90)\n",
    "lng_range = (-180, 180)"
   ]
  },
  {
   "cell_type": "markdown",
   "metadata": {},
   "source": [
    "## Generate Cities List"
   ]
  },
  {
   "cell_type": "code",
   "execution_count": 2,
   "metadata": {},
   "outputs": [
    {
     "data": {
      "text/plain": [
       "610"
      ]
     },
     "execution_count": 2,
     "metadata": {},
     "output_type": "execute_result"
    }
   ],
   "source": [
    "# List for holding lat_lngs and cities\n",
    "lat_lngs = []\n",
    "cities = []\n",
    "\n",
    "# Create a set of random lat and lng combinations\n",
    "lats = np.random.uniform(lat_range[0], lat_range[1], size=1500)\n",
    "lngs = np.random.uniform(lng_range[0], lng_range[1], size=1500)\n",
    "lat_lngs = zip(lats, lngs)\n",
    "\n",
    "# Identify nearest city for each lat, lng combination\n",
    "for lat_lng in lat_lngs:\n",
    "    city = citipy.nearest_city(lat_lng[0], lat_lng[1]).city_name\n",
    "    \n",
    "    # If the city is unique, then add it to a our cities list\n",
    "    if city not in cities:\n",
    "        cities.append(city)\n",
    "\n",
    "# Print the city count to confirm sufficient count\n",
    "len(cities)"
   ]
  },
  {
   "cell_type": "markdown",
   "metadata": {},
   "source": [
    "### Perform API Calls\n",
    "* Perform a weather check on each city using a series of successive API calls.\n",
    "* Include a print log of each city as it'sbeing processed (with the city number and city name).\n",
    "\n",
    "> **HINT:** The OpenWeatherMap API only allows 60 calls per minute under their free plan. Try using `time.sleep(60)` after each set of 50 cities to avoid API errors due to large calls."
   ]
  },
  {
   "cell_type": "code",
   "execution_count": 3,
   "metadata": {
    "scrolled": true
   },
   "outputs": [
    {
     "ename": "NameError",
     "evalue": "name 'index' is not defined",
     "output_type": "error",
     "traceback": [
      "\u001b[1;31m---------------------------------------------------------------------------\u001b[0m",
      "\u001b[1;31mNameError\u001b[0m                                 Traceback (most recent call last)",
      "\u001b[1;32m<ipython-input-3-05e047e3cb56>\u001b[0m in \u001b[0;36m<module>\u001b[1;34m\u001b[0m\n\u001b[0;32m     32\u001b[0m         \u001b[0mdates\u001b[0m\u001b[1;33m.\u001b[0m\u001b[0mappend\u001b[0m\u001b[1;33m(\u001b[0m\u001b[0mresponse\u001b[0m\u001b[1;33m[\u001b[0m\u001b[1;34m\"dt\"\u001b[0m\u001b[1;33m]\u001b[0m\u001b[1;33m)\u001b[0m\u001b[1;33m\u001b[0m\u001b[1;33m\u001b[0m\u001b[0m\n\u001b[0;32m     33\u001b[0m         \u001b[0mcities_updated\u001b[0m\u001b[1;33m.\u001b[0m\u001b[0mappend\u001b[0m\u001b[1;33m(\u001b[0m\u001b[0mcity\u001b[0m\u001b[1;33m)\u001b[0m\u001b[1;33m\u001b[0m\u001b[1;33m\u001b[0m\u001b[0m\n\u001b[1;32m---> 34\u001b[1;33m         \u001b[0mprint\u001b[0m\u001b[1;33m(\u001b[0m\u001b[1;34m\"Processing Record #\"\u001b[0m \u001b[1;33m+\u001b[0m \u001b[0mindex\u001b[0m \u001b[1;33m+\u001b[0m \u001b[1;34m\" of Set #\"\u001b[0m \u001b[1;33m+\u001b[0m \u001b[0mlen\u001b[0m\u001b[1;33m(\u001b[0m\u001b[0mcities\u001b[0m\u001b[1;33m)\u001b[0m \u001b[1;33m+\u001b[0m\u001b[1;34m\" | \"\u001b[0m \u001b[1;33m+\u001b[0m \u001b[0mcity\u001b[0m\u001b[1;33m)\u001b[0m\u001b[1;33m\u001b[0m\u001b[1;33m\u001b[0m\u001b[0m\n\u001b[0m\u001b[0;32m     35\u001b[0m     \u001b[1;32mexcept\u001b[0m \u001b[0mKeyError\u001b[0m\u001b[1;33m:\u001b[0m\u001b[1;33m\u001b[0m\u001b[1;33m\u001b[0m\u001b[0m\n\u001b[0;32m     36\u001b[0m         \u001b[0mprint\u001b[0m\u001b[1;33m(\u001b[0m\u001b[0mcity\u001b[0m \u001b[1;33m+\u001b[0m \u001b[1;34m\" does not exist.\"\u001b[0m\u001b[1;33m)\u001b[0m\u001b[1;33m\u001b[0m\u001b[1;33m\u001b[0m\u001b[0m\n",
      "\u001b[1;31mNameError\u001b[0m: name 'index' is not defined"
     ]
    }
   ],
   "source": [
    "import json\n",
    "units = 'imperial'\n",
    "index = 0\n",
    "\n",
    "#set up lists\n",
    "latitudes = []\n",
    "longitudes = []\n",
    "max_temperatures = []\n",
    "temperature = []\n",
    "humidity = []\n",
    "cloudiness = []\n",
    "wind_speed = []\n",
    "countries = []\n",
    "dates = []\n",
    "cities_updated = []\n",
    "\n",
    "#loop through cities to append information to the lists\n",
    "for city in cities:\n",
    "    url = \"http://api.openweathermap.org/data/2.5/weather?q=\" + city +\"&units=\" + units + \"&appid=\" + weather_api_key\n",
    "    \"http://api.openweathermap.org/data/2.5/weather?q=barentsburg&appid=1e44bc9d31c9878cf91aa040278c13af\"\n",
    "    response = requests.get(url).json()\n",
    "    try:\n",
    "        #append to the lists the responses\n",
    "        latitudes.append(response[\"coord\"][\"lat\"])\n",
    "        longitudes.append(response[\"coord\"][\"lon\"])\n",
    "        temperature.append(response[\"main\"][\"temp\"])\n",
    "        max_temperatures.append(response[\"main\"][\"temp_max\"])\n",
    "        humidity.append(response[\"main\"][\"humidity\"])\n",
    "        cloudiness.append(response[\"clouds\"][\"all\"])\n",
    "        wind_speed.append(response[\"wind\"][\"speed\"])\n",
    "        countries.append(response[\"sys\"][\"country\"])\n",
    "        dates.append(response[\"dt\"])\n",
    "        cities_updated.append(city)\n",
    "        print(\"Processing Record #\" + index + \" of Set #\" + len(cities) +\" | \" + city)\n",
    "    except KeyError:\n",
    "        print(city + \" does not exist.\")\n",
    "        \n",
    "    #print(city)\n",
    "    #print(response)\n",
    "    #print(url)\n",
    "    #if index == 5:\n",
    "        #break;\n",
    "    index = index + 1"
   ]
  },
  {
   "cell_type": "markdown",
   "metadata": {},
   "source": [
    "### Convert Raw Data to DataFrame\n",
    "* Export the city data into a .csv.\n",
    "* Display the DataFrame"
   ]
  },
  {
   "cell_type": "code",
   "execution_count": null,
   "metadata": {},
   "outputs": [],
   "source": [
    "weather_data = pd.DataFrame({\"City\": cities_updated,\n",
    "                            \"Lat\": latitudes,\n",
    "                            \"Lng\": longitudes,\n",
    "                            \"Max Temp\": max_temperatures,\n",
    "                            \"Humidity\": humidity,\n",
    "                            \"Cloudiness\": cloudiness,\n",
    "                            \"Wind Speed\": wind_speed,\n",
    "                            \"Country\": countries,\n",
    "                            \"Date\": dates})"
   ]
  },
  {
   "cell_type": "code",
   "execution_count": null,
   "metadata": {},
   "outputs": [],
   "source": [
    "weather_data.to_csv(\"weatherpy_data.csv\", index = False)"
   ]
  },
  {
   "cell_type": "code",
   "execution_count": null,
   "metadata": {},
   "outputs": [],
   "source": [
    "weather_data.describe()"
   ]
  },
  {
   "cell_type": "markdown",
   "metadata": {},
   "source": [
    "## Inspect the data and remove the cities where the humidity > 100%.\n",
    "----\n",
    "Skip this step if there are no cities that have humidity > 100%. "
   ]
  },
  {
   "cell_type": "code",
   "execution_count": null,
   "metadata": {},
   "outputs": [],
   "source": []
  },
  {
   "cell_type": "code",
   "execution_count": null,
   "metadata": {},
   "outputs": [],
   "source": [
    "#  Get the indices of cities that have humidity over 100%.\n",
    "indices_cities_high_humidity = []\n",
    "index = 0\n",
    "for humidity in weather_data[\"Humidity\"]:\n",
    "    if humidity > 100:\n",
    "        indices_cities_high_humidity.append(index)\n",
    "    index = index + 1\n",
    "if (len(indices_cities_high_humidity) == 0):\n",
    "    print  (\"No cities have humidity over 100%\")\n",
    "else:\n",
    "    print(\"The indices of the cities with high humidity are: \" + indices_cities_high_humidity)"
   ]
  },
  {
   "cell_type": "code",
   "execution_count": null,
   "metadata": {},
   "outputs": [],
   "source": [
    "# Make a new DataFrame equal to the city data to drop all humidity outliers by index.\n",
    "# Passing \"inplace=False\" will make a copy of the city_data DataFrame, which we call \"clean_city_data\".\n",
    "clean_city_data = weather_data[weather_data[\"Humidity\"] < 100]"
   ]
  },
  {
   "cell_type": "code",
   "execution_count": null,
   "metadata": {},
   "outputs": [],
   "source": [
    "\n"
   ]
  },
  {
   "cell_type": "markdown",
   "metadata": {},
   "source": [
    "## Plotting the Data\n",
    "* Use proper labeling of the plots using plot titles (including date of analysis) and axes labels.\n",
    "* Save the plotted figures as .pngs."
   ]
  },
  {
   "cell_type": "markdown",
   "metadata": {},
   "source": [
    "## Latitude vs. Temperature Plot"
   ]
  },
  {
   "cell_type": "code",
   "execution_count": null,
   "metadata": {
    "scrolled": true
   },
   "outputs": [],
   "source": [
    "y_axis = clean_city_data[\"Max Temp\"]\n",
    "x_axis = clean_city_data[\"Lat\"];\n",
    "plt.scatter(x_axis,y_axis);\n",
    "plt.title(\"City Latitude vs. Max Temperature (01/26/22)\");\n",
    "plt.xlabel(\"Latitude\");\n",
    "plt.ylabel(\"Max Temperature (F)\");\n",
    "plt.grid()\n",
    "plt.show()\n",
    "\n",
    "#Save as png\n",
    "plt.savefig(\"City_Latitude_vs_Max_Temperature.png\");\n"
   ]
  },
  {
   "cell_type": "markdown",
   "metadata": {},
   "source": [
    "# Explanation of Plot\n",
    "- This graph is showing the latitude (distance between a point on the Earth's surface and the equator) vs the max temperaure in Faranheit.\n",
    "\n"
   ]
  },
  {
   "cell_type": "markdown",
   "metadata": {},
   "source": [
    "## Latitude vs. Humidity Plot"
   ]
  },
  {
   "cell_type": "code",
   "execution_count": null,
   "metadata": {},
   "outputs": [],
   "source": [
    "y_axis = clean_city_data[\"Humidity\"]\n",
    "x_axis = clean_city_data[\"Lat\"];\n",
    "plt.scatter(x_axis,y_axis);\n",
    "plt.title(\"Humidity vs Latitude (01/26/22)\");\n",
    "plt.xlabel(\"Latitude\");\n",
    "plt.ylabel(\"Humidity (%)\");\n",
    "plt.grid()\n",
    "plt.show()\n",
    "\n",
    "#Save as png\n",
    "plt.savefig(\"City_Latitude_vs_Humidity.png\");\n"
   ]
  },
  {
   "cell_type": "markdown",
   "metadata": {},
   "source": [
    "# Explanation of Plot\n",
    "- This graph is showing the latitude (distance between a point on the Earth's surface and the equator) vs the humidity percentage."
   ]
  },
  {
   "cell_type": "markdown",
   "metadata": {},
   "source": [
    "## Latitude vs. Cloudiness Plot"
   ]
  },
  {
   "cell_type": "code",
   "execution_count": null,
   "metadata": {},
   "outputs": [],
   "source": [
    "y_axis = clean_city_data[\"Cloudiness\"]\n",
    "x_axis = clean_city_data[\"Lat\"];\n",
    "plt.scatter(x_axis,y_axis);\n",
    "plt.title(\"Cloudiness vs Latitude (01/26/22)\");\n",
    "plt.xlabel(\"Latitude\");\n",
    "plt.ylabel(\"Cloudiness (%)\");\n",
    "plt.grid()\n",
    "plt.show()\n",
    "\n",
    "#Save as png\n",
    "plt.savefig(\"City_Latitude_vs_Cloudiness.png\");"
   ]
  },
  {
   "cell_type": "markdown",
   "metadata": {},
   "source": [
    "# Explanation of Plot\n",
    "- This graph is showing the latitude (distance between a point on the Earth's surface and the equator) vs the cloudiness percentage."
   ]
  },
  {
   "cell_type": "markdown",
   "metadata": {},
   "source": [
    "## Latitude vs. Wind Speed Plot"
   ]
  },
  {
   "cell_type": "code",
   "execution_count": null,
   "metadata": {},
   "outputs": [],
   "source": [
    "y_axis = clean_city_data[\"Wind Speed\"]\n",
    "x_axis = clean_city_data[\"Lat\"];\n",
    "plt.scatter(x_axis,y_axis);\n",
    "plt.title(\"Wind Speed vs Latitude (01/26/22)\");\n",
    "plt.xlabel(\"Latitude\");\n",
    "plt.ylabel(\"Wind Speed (mph)\");\n",
    "plt.grid()\n",
    "plt.show()\n",
    "\n",
    "#Save as png\n",
    "plt.savefig(\"City_Latitude_vs_Wind_Speed.png\");"
   ]
  },
  {
   "cell_type": "markdown",
   "metadata": {},
   "source": [
    "# Explanation of Plot\n",
    "- This graph is showing the latitude (distance between a point on the Earth's surface and the equator) vs the wind speed in miles per hour."
   ]
  },
  {
   "cell_type": "markdown",
   "metadata": {},
   "source": [
    "## Linear Regression"
   ]
  },
  {
   "cell_type": "code",
   "execution_count": null,
   "metadata": {},
   "outputs": [],
   "source": []
  },
  {
   "cell_type": "markdown",
   "metadata": {},
   "source": [
    "####  Northern Hemisphere - Max Temp vs. Latitude Linear Regression"
   ]
  },
  {
   "cell_type": "code",
   "execution_count": null,
   "metadata": {},
   "outputs": [],
   "source": [
    "nothern_hemisphere_df = clean_city_data[clean_city_data[\"Lat\"] > 0]\n",
    "y_axis = nothern_hemisphere_df[\"Max Temp\"]\n",
    "x_axis = nothern_hemisphere_df[\"Lat\"];\n",
    "plt.scatter(x_axis,y_axis);\n",
    "plt.title(\"City Latitude vs. Max Temperature for Nothern Hemisphere (01/26/22)\");\n",
    "plt.xlabel(\"Latitude\");\n",
    "plt.ylabel(\"Max Temperature (F)\");\n",
    "plt.grid()\n",
    "(slope, intercept, rvalue,pvalue,stderr) = linregress(x_axis,y_axis)\n",
    "regress_values = x_axis * slope + intercept\n",
    "line_eq = (\"y= \" + str(round(slope,2)) + \"x + \" + str(round(intercept,2)))\n",
    "print(\"The line equation is \" + line_eq)\n",
    "plt.plot(x_axis,regress_values, \"r-\")\n",
    "plt.annotate(line_eq,(10,40), fontsize = 10, color = \"red\")\n",
    "print(\"The r-value is %.2f\" % (rvalue))\n",
    "plt.show()\n",
    "\n",
    "#Save as png\n",
    "plt.savefig(\"North_Hemisphere_City_Latitude_vs_Max_Temperature.png\");"
   ]
  },
  {
   "cell_type": "markdown",
   "metadata": {},
   "source": [
    "# Explanation of Plot\n",
    "- This graph is showing the max temperature in Faranheit vs the latitude (distance between a point on the Earth's surface and the equator) for the North Hemisphere (latitude > 0). As seen in the regression line, there is a clear negative linear correlation between the 2 variables (r-value = -0.87, which is close to the perfect negative linear regression of -1)"
   ]
  },
  {
   "cell_type": "markdown",
   "metadata": {},
   "source": [
    "####  Southern Hemisphere - Max Temp vs. Latitude Linear Regression"
   ]
  },
  {
   "cell_type": "code",
   "execution_count": null,
   "metadata": {},
   "outputs": [],
   "source": [
    "southern_hemisphere_df = clean_city_data[clean_city_data[\"Lat\"] < 0]\n",
    "y_axis = southern_hemisphere_df[\"Max Temp\"]\n",
    "x_axis = southern_hemisphere_df[\"Lat\"];\n",
    "plt.scatter(x_axis,y_axis);\n",
    "plt.title(\"City Latitude vs. Max Temperature for Southern Hemisphere (01/26/22)\");\n",
    "plt.xlabel(\"Latitude\");\n",
    "plt.ylabel(\"Max Temperature (F)\");\n",
    "plt.grid()\n",
    "(slope, intercept, rvalue,pvalue,stderr) = linregress(x_axis,y_axis)\n",
    "regress_values = x_axis * slope + intercept\n",
    "line_eq = (\"y= \" + str(round(slope,2)) + \"x + \" + str(round(intercept,2)))\n",
    "print(\"The line equation is \" + line_eq)\n",
    "plt.plot(x_axis,regress_values, \"r-\")\n",
    "plt.annotate(line_eq,(-40,70), fontsize = 10, color = \"red\")\n",
    "print(\"The r-value is %.2f\" % (rvalue))\n",
    "plt.show();\n",
    "\n",
    "#Save as png\n",
    "plt.savefig(\"South_Hemisphere_City_Latitude_vs_Max_Temperature.png\");"
   ]
  },
  {
   "cell_type": "markdown",
   "metadata": {},
   "source": [
    "# Explanation of Plot\n",
    "- This graph is showing the max temperature in Faranheit vs the latitude (distance between a point on the Earth's surface and the equator) for the South Hemisphere (latitude < 0). As seen in the regression line, there is a somewhat linear relationship between the variables (with an r-value of 0.45)"
   ]
  },
  {
   "cell_type": "markdown",
   "metadata": {},
   "source": [
    "####  Northern Hemisphere - Humidity (%) vs. Latitude Linear Regression"
   ]
  },
  {
   "cell_type": "code",
   "execution_count": null,
   "metadata": {},
   "outputs": [],
   "source": [
    "y_axis = nothern_hemisphere_df[\"Humidity\"]\n",
    "x_axis = nothern_hemisphere_df[\"Lat\"];\n",
    "plt.scatter(x_axis,y_axis);\n",
    "plt.title(\"City Latitude vs. Humidity for Northern Hemisphere (01/26/22)\");\n",
    "plt.xlabel(\"Latitude\");\n",
    "plt.ylabel(\"Humidity\");\n",
    "plt.grid()\n",
    "(slope, intercept, rvalue,pvalue,stderr) = linregress(x_axis,y_axis)\n",
    "regress_values = x_axis * slope + intercept\n",
    "line_eq = (\"y= \" + str(round(slope,2)) + \"x + \" + str(round(intercept,2)))\n",
    "print(\"The line equation is \" + line_eq)\n",
    "plt.plot(x_axis,regress_values, \"r-\")\n",
    "plt.annotate(line_eq,(50,20), fontsize = 10, color = \"red\")\n",
    "print(\"The r-value is %.2f\" % (rvalue))\n",
    "plt.show()\n",
    "\n",
    "#Save as png\n",
    "plt.savefig(\"North_Hemisphere_City_Latitude_vs_Humidity.png\");"
   ]
  },
  {
   "cell_type": "markdown",
   "metadata": {},
   "source": [
    "# Explanation of Plot\n",
    "- This graph is showing the humidity percentage vs the latitude (distance between a point on the Earth's surface and the equator) for the North Hemisphere (latitude > 0). As seen in the regression line, there is somewhat of a positive correlation between the 2 variables"
   ]
  },
  {
   "cell_type": "markdown",
   "metadata": {},
   "source": [
    "####  Southern Hemisphere - Humidity (%) vs. Latitude Linear Regression"
   ]
  },
  {
   "cell_type": "code",
   "execution_count": null,
   "metadata": {},
   "outputs": [],
   "source": [
    "y_axis = southern_hemisphere_df[\"Humidity\"]\n",
    "x_axis = southern_hemisphere_df[\"Lat\"];\n",
    "plt.scatter(x_axis,y_axis);\n",
    "plt.title(\"City Latitude vs. Humidity for Southern Hemisphere (01/26/22)\");\n",
    "plt.xlabel(\"Latitude\");\n",
    "plt.ylabel(\"Humidity\");\n",
    "plt.grid()\n",
    "(slope, intercept, rvalue,pvalue,stderr) = linregress(x_axis,y_axis)\n",
    "regress_values = x_axis * slope + intercept\n",
    "line_eq = (\"y= \" + str(round(slope,2)) + \"x + \" + str(round(intercept,2)))\n",
    "print(\"The line equation is \" + line_eq)\n",
    "plt.plot(x_axis,regress_values, \"r-\")\n",
    "plt.annotate(line_eq,(-40,20), fontsize = 10, color = \"red\")\n",
    "print(\"The r-value is %.2f\" % (rvalue))\n",
    "plt.show()\n",
    "\n",
    "#Save as png\n",
    "plt.savefig(\"South_Hemisphere_City_Latitude_vs_Humidity.png\");"
   ]
  },
  {
   "cell_type": "markdown",
   "metadata": {},
   "source": [
    "# Explanation of Plot\n",
    "- This graph is showing the humidity percentage vs the latitude (distance between a point on the Earth's surface and the equator) for the South Hemisphere (latitude < 0). As seen in the regression line, there is somewhat of a positive correlation between the 2 variables"
   ]
  },
  {
   "cell_type": "markdown",
   "metadata": {},
   "source": [
    "####  Northern Hemisphere - Cloudiness (%) vs. Latitude Linear Regression"
   ]
  },
  {
   "cell_type": "code",
   "execution_count": null,
   "metadata": {},
   "outputs": [],
   "source": [
    "y_axis = nothern_hemisphere_df[\"Cloudiness\"]\n",
    "x_axis = nothern_hemisphere_df[\"Lat\"];\n",
    "plt.scatter(x_axis,y_axis);\n",
    "plt.title(\"Cloudiness vs Latitude (01/26/22)\");\n",
    "plt.xlabel(\"Latitude\");\n",
    "plt.ylabel(\"Cloudiness (%)\");\n",
    "plt.grid()\n",
    "(slope, intercept, rvalue,pvalue,stderr) = linregress(x_axis,y_axis)\n",
    "regress_values = x_axis * slope + intercept\n",
    "line_eq = (\"y= \" + str(round(slope,2)) + \"x + \" + str(round(intercept,2)))\n",
    "print(\"The line equation is \" + line_eq)\n",
    "plt.plot(x_axis,regress_values, \"r-\")\n",
    "plt.annotate(line_eq,(40,20), fontsize = 10, color = \"red\")\n",
    "print(\"The r-value is %.2f\" % (rvalue))\n",
    "plt.show()\n",
    "\n",
    "#Save as png\n",
    "plt.savefig(\"North_Hemisphere_City_Latitude_vs_Cloudiness.png\");"
   ]
  },
  {
   "cell_type": "markdown",
   "metadata": {},
   "source": [
    "# Explanation of Plot\n",
    "- This graph is showing the cloudiness percentage vs the latitude (distance between a point on the Earth's surface and the equator) for the North Hemisphere (latitude > 0). The linear regression that has an R^2 of 0.1 demonstrated that there is no linear relationship between these 2 variables"
   ]
  },
  {
   "cell_type": "markdown",
   "metadata": {},
   "source": [
    "####  Southern Hemisphere - Cloudiness (%) vs. Latitude Linear Regression"
   ]
  },
  {
   "cell_type": "code",
   "execution_count": null,
   "metadata": {},
   "outputs": [],
   "source": [
    "y_axis = southern_hemisphere_df[\"Cloudiness\"]\n",
    "x_axis = southern_hemisphere_df[\"Lat\"];\n",
    "plt.scatter(x_axis,y_axis);\n",
    "plt.title(\"Cloudiness vs Latitude (01/26/22)\");\n",
    "plt.xlabel(\"Latitude\");\n",
    "plt.ylabel(\"Cloudiness (%)\");\n",
    "plt.grid()\n",
    "(slope, intercept, rvalue,pvalue,stderr) = linregress(x_axis,y_axis)\n",
    "regress_values = x_axis * slope + intercept\n",
    "line_eq = (\"y= \" + str(round(slope,2)) + \"x + \" + str(round(intercept,2)))\n",
    "print(\"The line equation is \" + line_eq)\n",
    "plt.plot(x_axis,regress_values, \"r-\")\n",
    "plt.annotate(line_eq,(-40,20), fontsize = 10, color = \"red\")\n",
    "print(\"The r-value is %.2f\" % (rvalue))\n",
    "plt.show()\n",
    "\n",
    "#Save as png\n",
    "plt.savefig(\"South_Hemisphere_City_Latitude_vs_Cloudiness.png\");"
   ]
  },
  {
   "cell_type": "markdown",
   "metadata": {},
   "source": [
    "# Explanation of Plot\n",
    "- This graph is showing the cloudiness percentage vs the latitude (distance between a point on the Earth's surface and the equator) for the South Hemisphere (latitude < 0). The linear regression that has an R^2 of 0.07 demonstrated that there is no linear relationship between these 2 variables"
   ]
  },
  {
   "cell_type": "markdown",
   "metadata": {},
   "source": [
    "####  Northern Hemisphere - Wind Speed (mph) vs. Latitude Linear Regression"
   ]
  },
  {
   "cell_type": "code",
   "execution_count": null,
   "metadata": {},
   "outputs": [],
   "source": [
    "y_axis = nothern_hemisphere_df[\"Wind Speed\"]\n",
    "x_axis = nothern_hemisphere_df[\"Lat\"];\n",
    "plt.scatter(x_axis,y_axis);\n",
    "plt.title(\"Wind Speed vs Latitude (01/26/22)\");\n",
    "plt.xlabel(\"Latitude\");\n",
    "plt.ylabel(\"Wind Speed (mph)\");\n",
    "plt.grid()\n",
    "(slope, intercept, rvalue,pvalue,stderr) = linregress(x_axis,y_axis)\n",
    "regress_values = x_axis * slope + intercept\n",
    "line_eq = (\"y= \" + str(round(slope,2)) + \"x + \" + str(round(intercept,2)))\n",
    "print(\"The line equation is \" + line_eq)\n",
    "plt.plot(x_axis,regress_values, \"r-\")\n",
    "plt.annotate(line_eq,(40,10), fontsize = 10, color = \"red\")\n",
    "print(\"The r-value is %.2f\" % (rvalue))\n",
    "plt.show()\n",
    "\n",
    "#Save as png\n",
    "plt.savefig(\"North_Hemisphere_City_Latitude_vs_Wind_Speed.png\");"
   ]
  },
  {
   "cell_type": "markdown",
   "metadata": {},
   "source": [
    "# Explanation of Plot\n",
    "- This graph is showing the wind speed in miles per hour vs the latitude (distance between a point on the Earth's surface and the equator) for the North Hemisphere (latitude > 0). By looking at the graph we can see that there is no linear relationship between these 2 variables"
   ]
  },
  {
   "cell_type": "markdown",
   "metadata": {},
   "source": [
    "####  Southern Hemisphere - Wind Speed (mph) vs. Latitude Linear Regression"
   ]
  },
  {
   "cell_type": "code",
   "execution_count": null,
   "metadata": {},
   "outputs": [],
   "source": [
    "y_axis = southern_hemisphere_df[\"Wind Speed\"]\n",
    "x_axis = southern_hemisphere_df[\"Lat\"];\n",
    "plt.scatter(x_axis,y_axis);\n",
    "plt.title(\"Wind Speed vs Latitude (01/26/22)\");\n",
    "plt.xlabel(\"Latitude\");\n",
    "plt.ylabel(\"Wind Speed (mph)\");\n",
    "plt.grid()\n",
    "(slope, intercept, rvalue,pvalue,stderr) = linregress(x_axis,y_axis)\n",
    "regress_values = x_axis * slope + intercept\n",
    "line_eq = (\"y= \" + str(round(slope,2)) + \"x + \" + str(round(intercept,2)))\n",
    "print(\"The line equation is \" + line_eq)\n",
    "plt.plot(x_axis,regress_values, \"r-\")\n",
    "plt.annotate(line_eq,(-40,3), fontsize = 10, color = \"red\")\n",
    "print(\"The r-value is %.2f\" % (rvalue))\n",
    "plt.show()\n",
    "\n",
    "#Save as png\n",
    "plt.savefig(\"South_Hemisphere_City_Latitude_vs_Wind_Speed.png\");"
   ]
  },
  {
   "cell_type": "markdown",
   "metadata": {},
   "source": [
    "# Explanation of Plot\n",
    "- This graph is showing the wind speed in miles per hour vs the latitude (distance between a point on the Earth's surface and the equator) for the South Hemisphere (latitude < 0). By looking at the graph we can see that there is no linear relationship between these 2 variables"
   ]
  }
 ],
 "metadata": {
  "anaconda-cloud": {},
  "kernel_info": {
   "name": "python3"
  },
  "kernelspec": {
   "display_name": "Python [conda env:PythonData]",
   "language": "python",
   "name": "conda-env-PythonData-py"
  },
  "language_info": {
   "codemirror_mode": {
    "name": "ipython",
    "version": 3
   },
   "file_extension": ".py",
   "mimetype": "text/x-python",
   "name": "python",
   "nbconvert_exporter": "python",
   "pygments_lexer": "ipython3",
   "version": "3.6.10"
  },
  "latex_envs": {
   "LaTeX_envs_menu_present": true,
   "autoclose": false,
   "autocomplete": true,
   "bibliofile": "biblio.bib",
   "cite_by": "apalike",
   "current_citInitial": 1,
   "eqLabelWithNumbers": true,
   "eqNumInitial": 1,
   "hotkeys": {
    "equation": "Ctrl-E",
    "itemize": "Ctrl-I"
   },
   "labels_anchors": false,
   "latex_user_defs": false,
   "report_style_numbering": false,
   "user_envs_cfg": false
  },
  "nteract": {
   "version": "0.12.3"
  }
 },
 "nbformat": 4,
 "nbformat_minor": 2
}
